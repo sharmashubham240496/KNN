{
  "nbformat": 4,
  "nbformat_minor": 0,
  "metadata": {
    "colab": {
      "provenance": [],
      "include_colab_link": true
    },
    "kernelspec": {
      "name": "python3",
      "display_name": "Python 3"
    },
    "language_info": {
      "name": "python"
    }
  },
  "cells": [
    {
      "cell_type": "markdown",
      "metadata": {
        "id": "view-in-github",
        "colab_type": "text"
      },
      "source": [
        "<a href=\"https://colab.research.google.com/github/sharmashubham240496/KNN/blob/main/KNN_Real_world_Dataset_assignment.ipynb\" target=\"_parent\"><img src=\"https://colab.research.google.com/assets/colab-badge.svg\" alt=\"Open In Colab\"/></a>"
      ]
    },
    {
      "cell_type": "markdown",
      "source": [
        "#4. Processing a Real-world classification dataset by implementing Feature Search using Nearest Neighbor Backward Elimination and Forward Selection."
      ],
      "metadata": {
        "id": "hA9SNU4aNhFY"
      }
    },
    {
      "cell_type": "markdown",
      "source": [
        "I’m using the water quality dataset obtained from Kaggle. Below are the Feature Information for the dataset-\n",
        "The dataset downloaded includes the following parameters:\n",
        "1. pH: Continuous values\n",
        "2. Temperature: Continuous values\n",
        "3. Turbidity (NTU): Continuous values\n",
        "4. Dissolved Oxygen (DO): Continuous values\n",
        "5. Conductivity (µS/cm): Continuous values\n",
        "\n",
        "Please find the below link to check and download the dataset from Kaggle\n",
        "https://www.kaggle.com/datasets/shreyanshverma27/water-quality-testing/download?datasetVersionNumber=2\n"
      ],
      "metadata": {
        "id": "mBqbv4exUE3o"
      }
    },
    {
      "cell_type": "code",
      "source": [
        "# Dataset link - https://www.kaggle.com/datasets/shreyanshverma27/water-quality-testing/download?datasetVersionNumber=2\n",
        "# Kaggle site link - https://www.kaggle.com/datasets/shreyanshverma27/water-quality-testing\n",
        "\n",
        "from google.colab import drive\n",
        "import csv\n",
        "import pandas as pd\n",
        "import numpy as np\n",
        "\n",
        "drive.mount('/content/drive')\n",
        "water_quality_file_path = '/content/drive/MyDrive/Assignment_Knn/KNN_dataset_files/Water Quality Testing.csv'\n",
        "\n",
        "water_quality_df = pd.read_csv(water_quality_file_path)"
      ],
      "metadata": {
        "colab": {
          "base_uri": "https://localhost:8080/"
        },
        "id": "p287BUkkNjL0",
        "outputId": "f431940e-68db-4b77-8044-a1e305496927"
      },
      "execution_count": 2,
      "outputs": [
        {
          "output_type": "stream",
          "name": "stdout",
          "text": [
            "Drive already mounted at /content/drive; to attempt to forcibly remount, call drive.mount(\"/content/drive\", force_remount=True).\n"
          ]
        }
      ]
    },
    {
      "cell_type": "code",
      "source": [
        "water_quality_df.shape"
      ],
      "metadata": {
        "colab": {
          "base_uri": "https://localhost:8080/"
        },
        "id": "F3UqPsjlzVNa",
        "outputId": "3ad9f0fe-ed20-49b0-8265-a2ab3b7288fb"
      },
      "execution_count": 3,
      "outputs": [
        {
          "output_type": "execute_result",
          "data": {
            "text/plain": [
              "(500, 6)"
            ]
          },
          "metadata": {},
          "execution_count": 3
        }
      ]
    },
    {
      "cell_type": "code",
      "source": [
        "water_quality_df['Water Label'] = np.where(water_quality_df['pH']<7, 1,\n",
        "                                     np.where(water_quality_df['pH']>7.02, 3, 2))\n",
        "\n",
        "water_quality_df = water_quality_df.drop(['Sample ID', 'pH'], axis = 1)\n",
        "\n",
        "water_quality_df = water_quality_df[['Water Label', 'Temperature (°C)', 'Turbidity (NTU)', 'Dissolved Oxygen (mg/L)', 'Conductivity (µS/cm)']]"
      ],
      "metadata": {
        "id": "jbmuEVbmGanM"
      },
      "execution_count": 4,
      "outputs": []
    },
    {
      "cell_type": "code",
      "source": [
        "water_quality_df.columns"
      ],
      "metadata": {
        "colab": {
          "base_uri": "https://localhost:8080/"
        },
        "id": "fn4MZVlQAibk",
        "outputId": "0d5a1c35-e992-4efd-da1c-d79ff7252bcd"
      },
      "execution_count": 5,
      "outputs": [
        {
          "output_type": "execute_result",
          "data": {
            "text/plain": [
              "Index(['Water Label', 'Temperature (°C)', 'Turbidity (NTU)',\n",
              "       'Dissolved Oxygen (mg/L)', 'Conductivity (µS/cm)'],\n",
              "      dtype='object')"
            ]
          },
          "metadata": {},
          "execution_count": 5
        }
      ]
    },
    {
      "cell_type": "code",
      "source": [
        "print(water_quality_df.dtypes)"
      ],
      "metadata": {
        "colab": {
          "base_uri": "https://localhost:8080/"
        },
        "id": "7hrjuYpKCF1K",
        "outputId": "abbd7cc8-a323-4e10-c476-472af9df8989"
      },
      "execution_count": 6,
      "outputs": [
        {
          "output_type": "stream",
          "name": "stdout",
          "text": [
            "Water Label                  int64\n",
            "Temperature (°C)           float64\n",
            "Turbidity (NTU)            float64\n",
            "Dissolved Oxygen (mg/L)    float64\n",
            "Conductivity (µS/cm)         int64\n",
            "dtype: object\n"
          ]
        }
      ]
    },
    {
      "cell_type": "code",
      "source": [
        "def dataset_normalization(input_dataset):\n",
        "  # Z normalization on all the columns of the dataset except 1st column as it is the lable column\n",
        "  input_data_array = input_dataset.values\n",
        "  columns_to_normalize_except_label = np.arange(1, input_data_array.shape[1])\n",
        "  #calculating the mean and standard deviation for each column except lable column\n",
        "  columns_respective_means = np.mean(input_data_array[:, columns_to_normalize_except_label], axis=0)\n",
        "  columns_respective_stds = np.std(input_data_array[:, columns_to_normalize_except_label], axis=0)\n",
        "\n",
        "  input_data_array[:, columns_to_normalize_except_label] = (input_data_array[:, columns_to_normalize_except_label] - columns_respective_means) / columns_respective_stds\n",
        "\n",
        "  input_dataset_normalized = pd.DataFrame(input_data_array, columns=input_dataset.columns)\n",
        "\n",
        "  return input_dataset_normalized"
      ],
      "metadata": {
        "id": "6NuRdCodBe-N"
      },
      "execution_count": 7,
      "outputs": []
    },
    {
      "cell_type": "markdown",
      "source": [
        "## **Forward Selection**"
      ],
      "metadata": {
        "id": "LP3wItMY6w_d"
      }
    },
    {
      "cell_type": "code",
      "source": [
        "def evaluating_accuracy(normalized_input_dataset):\n",
        "    number_of_correctly_classified_labels = 0\n",
        "    X = normalized_input_dataset[:, 1:]\n",
        "    y = normalized_input_dataset[:, 0]\n",
        "\n",
        "    for i in range(len(normalized_input_dataset)):\n",
        "        current_row_label = y[i]\n",
        "        current_row_classification = X[i]\n",
        "\n",
        "        current_row_nearest_neighbor_distance = float('inf')\n",
        "        nearest_neighbor_encountered_label = None\n",
        "\n",
        "        for j in range(len(normalized_input_dataset)):\n",
        "            if i != j:\n",
        "                euclidean_distance = np.sqrt(np.sum((current_row_classification - X[j])**2))\n",
        "\n",
        "                if euclidean_distance < current_row_nearest_neighbor_distance:\n",
        "                    current_row_nearest_neighbor_distance = euclidean_distance\n",
        "                    nearest_neighbor_encountered_label = y[j]\n",
        "\n",
        "        if nearest_neighbor_encountered_label == current_row_label:\n",
        "            number_of_correctly_classified_labels += 1\n",
        "\n",
        "    classifier_accuracy_evaluation_metric = number_of_correctly_classified_labels / len(normalized_input_dataset)\n",
        "\n",
        "    return classifier_accuracy_evaluation_metric * 100"
      ],
      "metadata": {
        "id": "1XDaO_g0GDOJ"
      },
      "execution_count": null,
      "outputs": []
    },
    {
      "cell_type": "code",
      "source": [
        "def forward_selection(normalized_input_dataset):\n",
        "    print(\"Beginning Search\")\n",
        "    selected_feature_set = []\n",
        "    remaining_feature_set = list(range(1, normalized_input_dataset.shape[1]))\n",
        "    feature_set = {}\n",
        "\n",
        "    X = normalized_input_dataset.values\n",
        "\n",
        "    while len(remaining_feature_set) != 0:\n",
        "        feature_dict = {}\n",
        "\n",
        "        for c in remaining_feature_set:\n",
        "            columns_to_include = [0] + [c] + selected_feature_set\n",
        "            evaluating_performance_dataset = X[:, columns_to_include]\n",
        "            accuracy_value = evaluating_accuracy(evaluating_performance_dataset)\n",
        "            columns_to_include.remove(0)\n",
        "\n",
        "            print()\n",
        "            print(\"Using feature(s)\", tuple(columns_to_include), \"accuracy is\", accuracy_value)\n",
        "            feature_dict[tuple(columns_to_include)] = accuracy_value\n",
        "\n",
        "        print()\n",
        "        max_key = max(feature_dict, key=feature_dict.get)\n",
        "        print(\"Feature set\", tuple(max_key), \"was best, accuracy is\", feature_dict[max_key])\n",
        "        print()\n",
        "\n",
        "        selected_feature_set.insert(0, max_key[0])\n",
        "        remaining_feature_set.remove(max_key[0])\n",
        "        feature_set[max_key] = feature_dict[max_key]\n",
        "\n",
        "    best_feature_list = max(feature_set, key=feature_set.get)\n",
        "\n",
        "    print()\n",
        "    print(\"Finished search!! The best feature subset is\", tuple(best_feature_list), \"which has an accuracy of\", feature_set[best_feature_list])\n",
        "    return None"
      ],
      "metadata": {
        "id": "6AB1CPaeGxrZ"
      },
      "execution_count": null,
      "outputs": []
    },
    {
      "cell_type": "code",
      "source": [
        "water_quality_normalized_df = dataset_normalization(water_quality_df)"
      ],
      "metadata": {
        "id": "wxc2jGU6Bs3_"
      },
      "execution_count": null,
      "outputs": []
    },
    {
      "cell_type": "code",
      "source": [
        "forward_selection(water_quality_normalized_df)"
      ],
      "metadata": {
        "colab": {
          "base_uri": "https://localhost:8080/"
        },
        "id": "-xh76f1rGCho",
        "outputId": "365bb503-5c94-4dcd-b2d2-05cd91342675"
      },
      "execution_count": null,
      "outputs": [
        {
          "output_type": "stream",
          "name": "stdout",
          "text": [
            "Beginning Search\n",
            "\n",
            "Using feature(s) (1,) accuracy is 61.8\n",
            "\n",
            "Using feature(s) (2,) accuracy is 70.8\n",
            "\n",
            "Using feature(s) (3,) accuracy is 79.80000000000001\n",
            "\n",
            "Using feature(s) (4,) accuracy is 72.39999999999999\n",
            "\n",
            "Feature set (3,) was best, accuracy is 79.80000000000001\n",
            "\n",
            "\n",
            "Using feature(s) (1, 3) accuracy is 88.0\n",
            "\n",
            "Using feature(s) (2, 3) accuracy is 87.8\n",
            "\n",
            "Using feature(s) (4, 3) accuracy is 84.2\n",
            "\n",
            "Feature set (1, 3) was best, accuracy is 88.0\n",
            "\n",
            "\n",
            "Using feature(s) (2, 1, 3) accuracy is 88.8\n",
            "\n",
            "Using feature(s) (4, 1, 3) accuracy is 92.2\n",
            "\n",
            "Feature set (4, 1, 3) was best, accuracy is 92.2\n",
            "\n",
            "\n",
            "Using feature(s) (2, 4, 1, 3) accuracy is 91.8\n",
            "\n",
            "Feature set (2, 4, 1, 3) was best, accuracy is 91.8\n",
            "\n",
            "\n",
            "Finished search!! The best feature subset is (4, 1, 3) which has an accuracy of 92.2\n"
          ]
        }
      ]
    },
    {
      "cell_type": "code",
      "source": [],
      "metadata": {
        "id": "3VDdlmed6crT"
      },
      "execution_count": null,
      "outputs": []
    },
    {
      "cell_type": "markdown",
      "source": [
        "##Backward Elimination"
      ],
      "metadata": {
        "id": "7SONlOMd6eiZ"
      }
    },
    {
      "cell_type": "code",
      "source": [
        "import numpy as np\n",
        "\n",
        "def evaluating_accuracy(normalized_input_dataset):\n",
        "    number_of_correctly_classified_labels = 0\n",
        "    X = normalized_input_dataset[:, 1:]\n",
        "    y = normalized_input_dataset[:, 0]\n",
        "\n",
        "    for i in range(len(normalized_input_dataset)):\n",
        "        current_row_label = y[i]\n",
        "        current_row_classification = X[i]\n",
        "\n",
        "        current_row_nearest_neighbor_distance = float('inf')\n",
        "        nearest_neighbor_encountered_label = None\n",
        "\n",
        "        for j in range(len(normalized_input_dataset)):\n",
        "            if i != j:\n",
        "                euclidean_distance = np.sqrt(np.sum((current_row_classification - X[j])**2))\n",
        "\n",
        "                if euclidean_distance < current_row_nearest_neighbor_distance:\n",
        "                    current_row_nearest_neighbor_distance = euclidean_distance\n",
        "                    nearest_neighbor_encountered_label = y[j]\n",
        "\n",
        "        if nearest_neighbor_encountered_label == current_row_label:\n",
        "            number_of_correctly_classified_labels += 1\n",
        "\n",
        "    classifier_accuracy_evaluation_metric = number_of_correctly_classified_labels / len(normalized_input_dataset)\n",
        "\n",
        "    return classifier_accuracy_evaluation_metric * 100"
      ],
      "metadata": {
        "id": "MJDMQl4J6dWs"
      },
      "execution_count": 8,
      "outputs": []
    },
    {
      "cell_type": "code",
      "source": [
        "def backward_elimination(normalized_input_dataset):\n",
        "    print(\"Beginning Search\")\n",
        "    all_feature_set = list(range(1, normalized_input_dataset.shape[1]))\n",
        "    feature_set = {}\n",
        "\n",
        "    X = normalized_input_dataset.values\n",
        "\n",
        "    accuracy_value = evaluating_accuracy(X)\n",
        "    print(\"all features\", tuple(all_feature_set),\"accuracy is\", accuracy_value)\n",
        "\n",
        "\n",
        "    while len(all_feature_set) != 1:\n",
        "        feature_dict = {}\n",
        "        for c in all_feature_set:\n",
        "            temp_ls = all_feature_set.copy()\n",
        "            temp_ls.remove(c)\n",
        "            columns_to_include = [0] + temp_ls\n",
        "            evaluating_performance_dataset = X[:, columns_to_include]\n",
        "            accuracy_value = evaluating_accuracy(evaluating_performance_dataset)\n",
        "            columns_to_include.remove(0)\n",
        "\n",
        "            print()\n",
        "            print(\"Using feature(s)\", tuple(columns_to_include), \"accuracy is\", accuracy_value)\n",
        "            feature_dict[tuple(columns_to_include)] = accuracy_value\n",
        "\n",
        "        print()\n",
        "        max_key = max(feature_dict, key=feature_dict.get)\n",
        "        feature_value = list(set(all_feature_set) - set(max_key))[0]\n",
        "        print(\"Feature set\", tuple(max_key), \"was best, accuracy is\", feature_dict[max_key], \"eliminating feature is\", feature_value)\n",
        "        print()\n",
        "\n",
        "        all_feature_set.remove(feature_value)\n",
        "        feature_set[max_key] = feature_dict[max_key]\n",
        "\n",
        "    best_feature_list = max(feature_set, key=feature_set.get)\n",
        "\n",
        "    print()\n",
        "    print(\"Finished search!! The best feature subset is\", tuple(best_feature_list), \"which has an accuracy of\", feature_set[best_feature_list])\n",
        "    return None"
      ],
      "metadata": {
        "id": "VnpkmDCw7IDD"
      },
      "execution_count": 9,
      "outputs": []
    },
    {
      "cell_type": "code",
      "source": [
        "%%time\n",
        "\n",
        "water_quality_df = dataset_normalization(water_quality_df)\n",
        "backward_elimination(water_quality_df)"
      ],
      "metadata": {
        "colab": {
          "base_uri": "https://localhost:8080/"
        },
        "id": "MZdHmVxe7K2E",
        "outputId": "59315eab-2fde-405d-cb59-137c2a94baba"
      },
      "execution_count": 10,
      "outputs": [
        {
          "output_type": "stream",
          "name": "stdout",
          "text": [
            "Beginning Search\n",
            "all features (1, 2, 3, 4) accuracy is 91.8\n",
            "\n",
            "Using feature(s) (2, 3, 4) accuracy is 89.4\n",
            "\n",
            "Using feature(s) (1, 3, 4) accuracy is 92.2\n",
            "\n",
            "Using feature(s) (1, 2, 4) accuracy is 89.8\n",
            "\n",
            "Using feature(s) (1, 2, 3) accuracy is 88.8\n",
            "\n",
            "Feature set (1, 3, 4) was best, accuracy is 92.2 eliminating feature is 2\n",
            "\n",
            "\n",
            "Using feature(s) (3, 4) accuracy is 84.2\n",
            "\n",
            "Using feature(s) (1, 4) accuracy is 89.60000000000001\n",
            "\n",
            "Using feature(s) (1, 3) accuracy is 88.0\n",
            "\n",
            "Feature set (1, 4) was best, accuracy is 89.60000000000001 eliminating feature is 3\n",
            "\n",
            "\n",
            "Using feature(s) (4,) accuracy is 72.39999999999999\n",
            "\n",
            "Using feature(s) (1,) accuracy is 61.8\n",
            "\n",
            "Feature set (4,) was best, accuracy is 72.39999999999999 eliminating feature is 1\n",
            "\n",
            "\n",
            "Finished search!! The best feature subset is (1, 3, 4) which has an accuracy of 92.2\n",
            "CPU times: user 25.1 s, sys: 0 ns, total: 25.1 s\n",
            "Wall time: 25.6 s\n"
          ]
        }
      ]
    }
  ]
}